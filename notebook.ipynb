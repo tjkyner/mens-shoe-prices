{
 "cells": [
  {
   "cell_type": "markdown",
   "metadata": {},
   "source": [
    "# Men's Shoe Prices \n",
    "The goal of this kernel is to complete the **[task](https://www.kaggle.com/sureshmecad/mens-shoe-prices/tasks?taskId=4437)** associated with the dataset. The specific goals include:\n",
    "> - What is the average price of each distinct brand listed?\n",
    "> - Which brands have the highest prices?\n",
    "> - Which ones have the widest distribution of prices?\n",
    "> - Is there a typical price distribution (e.g., normal) across brands or within specific brands?\n",
    "> - Correlate specific product features with changes in price.\n",
    "\n",
    "Let's dive in!"
   ]
  },
  {
   "cell_type": "markdown",
   "metadata": {},
   "source": [
    "# Imports & Settings"
   ]
  },
  {
   "cell_type": "code",
   "execution_count": 1,
   "metadata": {},
   "outputs": [],
   "source": [
    "import numpy as np\n",
    "import pandas as pd\n",
    "import seaborn as sns\n",
    "import matplotlib.pyplot as plt\n",
    "%matplotlib inline"
   ]
  },
  {
   "cell_type": "code",
   "execution_count": 63,
   "metadata": {},
   "outputs": [],
   "source": [
    "sns.set_theme()"
   ]
  },
  {
   "cell_type": "markdown",
   "metadata": {},
   "source": [
    "# Data Cleaning / Preprocessing\n",
    "\n",
    "## Summary Info\n",
    "To start, let's get a general feel for the data we're working with."
   ]
  },
  {
   "cell_type": "code",
   "execution_count": 2,
   "metadata": {},
   "outputs": [
    {
     "name": "stdout",
     "output_type": "stream",
     "text": [
      "<class 'pandas.core.frame.DataFrame'>\n",
      "RangeIndex: 19387 entries, 0 to 19386\n",
      "Data columns (total 48 columns):\n",
      " #   Column               Non-Null Count  Dtype  \n",
      "---  ------               --------------  -----  \n",
      " 0   id                   19387 non-null  object \n",
      " 1   asins                2571 non-null   object \n",
      " 2   brand                19129 non-null  object \n",
      " 3   categories           19387 non-null  object \n",
      " 4   colors               11048 non-null  object \n",
      " 5   count                0 non-null      float64\n",
      " 6   dateadded            19387 non-null  object \n",
      " 7   dateupdated          19387 non-null  object \n",
      " 8   descriptions         9904 non-null   object \n",
      " 9   dimension            2991 non-null   object \n",
      " 10  ean                  9999 non-null   float64\n",
      " 11  features             13997 non-null  object \n",
      " 12  flavors              0 non-null      float64\n",
      " 13  imageurls            18342 non-null  object \n",
      " 14  isbn                 0 non-null      float64\n",
      " 15  keys                 19387 non-null  object \n",
      " 16  manufacturer         6699 non-null   object \n",
      " 17  manufacturernumber   15147 non-null  object \n",
      " 18  merchants            14040 non-null  object \n",
      " 19  name                 19387 non-null  object \n",
      " 20  prices_amountmin     19377 non-null  object \n",
      " 21  prices_amountmax     19387 non-null  object \n",
      " 22  prices_availability  197 non-null    object \n",
      " 23  prices_color         758 non-null    object \n",
      " 24  prices_condition     12621 non-null  object \n",
      " 25  prices_count         71 non-null     object \n",
      " 26  prices_currency      19311 non-null  object \n",
      " 27  prices_dateadded     19372 non-null  object \n",
      " 28  prices_dateseen      19362 non-null  object \n",
      " 29  prices_flavor        76 non-null     object \n",
      " 30  prices_issale        19321 non-null  object \n",
      " 31  prices_merchant      13843 non-null  object \n",
      " 32  prices_offer         6091 non-null   object \n",
      " 33  prices_returnpolicy  1018 non-null   object \n",
      " 34  prices_shipping      5753 non-null   object \n",
      " 35  prices_size          661 non-null    object \n",
      " 36  prices_source        16 non-null     object \n",
      " 37  prices_sourceurls    19281 non-null  object \n",
      " 38  prices_warranty      108 non-null    object \n",
      " 39  quantities           11 non-null     object \n",
      " 40  reviews              1664 non-null   object \n",
      " 41  sizes                5979 non-null   object \n",
      " 42  skus                 8743 non-null   object \n",
      " 43  sourceurls           19263 non-null  object \n",
      " 44  upc                  10816 non-null  object \n",
      " 45  vin                  46 non-null     object \n",
      " 46  websiteids           8 non-null      object \n",
      " 47  weight               863 non-null    object \n",
      "dtypes: float64(4), object(44)\n",
      "memory usage: 7.1+ MB\n"
     ]
    },
    {
     "name": "stderr",
     "output_type": "stream",
     "text": [
      "E:\\Programs\\anaconda3\\envs\\learn-env\\lib\\site-packages\\IPython\\core\\interactiveshell.py:3145: DtypeWarning: Columns (39,45) have mixed types.Specify dtype option on import or set low_memory=False.\n",
      "  has_raised = await self.run_ast_nodes(code_ast.body, cell_name,\n"
     ]
    }
   ],
   "source": [
    "df = pd.read_csv('data.csv')\n",
    "df.info()"
   ]
  },
  {
   "cell_type": "code",
   "execution_count": 3,
   "metadata": {},
   "outputs": [
    {
     "data": {
      "text/html": [
       "<div>\n",
       "<style scoped>\n",
       "    .dataframe tbody tr th:only-of-type {\n",
       "        vertical-align: middle;\n",
       "    }\n",
       "\n",
       "    .dataframe tbody tr th {\n",
       "        vertical-align: top;\n",
       "    }\n",
       "\n",
       "    .dataframe thead th {\n",
       "        text-align: right;\n",
       "    }\n",
       "</style>\n",
       "<table border=\"1\" class=\"dataframe\">\n",
       "  <thead>\n",
       "    <tr style=\"text-align: right;\">\n",
       "      <th></th>\n",
       "      <th>id</th>\n",
       "      <th>asins</th>\n",
       "      <th>brand</th>\n",
       "      <th>categories</th>\n",
       "      <th>colors</th>\n",
       "      <th>count</th>\n",
       "      <th>dateadded</th>\n",
       "      <th>dateupdated</th>\n",
       "      <th>descriptions</th>\n",
       "      <th>dimension</th>\n",
       "      <th>...</th>\n",
       "      <th>prices_warranty</th>\n",
       "      <th>quantities</th>\n",
       "      <th>reviews</th>\n",
       "      <th>sizes</th>\n",
       "      <th>skus</th>\n",
       "      <th>sourceurls</th>\n",
       "      <th>upc</th>\n",
       "      <th>vin</th>\n",
       "      <th>websiteids</th>\n",
       "      <th>weight</th>\n",
       "    </tr>\n",
       "  </thead>\n",
       "  <tbody>\n",
       "    <tr>\n",
       "      <th>0</th>\n",
       "      <td>AVpfHrJ6ilAPnD_xVXOI</td>\n",
       "      <td>NaN</td>\n",
       "      <td>Josmo</td>\n",
       "      <td>Clothing,Shoes,Men's Shoes,All Men's Shoes</td>\n",
       "      <td>NaN</td>\n",
       "      <td>NaN</td>\n",
       "      <td>2016-11-07T00:45:12Z</td>\n",
       "      <td>2016-11-07T00:45:12Z</td>\n",
       "      <td>[{\"dateSeen\":[\"2016-11-07T00:45:12Z\"],\"sourceU...</td>\n",
       "      <td>NaN</td>\n",
       "      <td>...</td>\n",
       "      <td>NaN</td>\n",
       "      <td>NaN</td>\n",
       "      <td>NaN</td>\n",
       "      <td>NaN</td>\n",
       "      <td>NaN</td>\n",
       "      <td>https://www.walmart.com/ip/Josmo-8190-Plain-In...</td>\n",
       "      <td>699302044036</td>\n",
       "      <td>NaN</td>\n",
       "      <td>NaN</td>\n",
       "      <td>NaN</td>\n",
       "    </tr>\n",
       "    <tr>\n",
       "      <th>1</th>\n",
       "      <td>AVpfHrJ6ilAPnD_xVXOI</td>\n",
       "      <td>NaN</td>\n",
       "      <td>Josmo</td>\n",
       "      <td>Clothing,Shoes,Men's Shoes,All Men's Shoes</td>\n",
       "      <td>NaN</td>\n",
       "      <td>NaN</td>\n",
       "      <td>2016-11-07T00:45:12Z</td>\n",
       "      <td>2016-11-07T00:45:12Z</td>\n",
       "      <td>[{\"dateSeen\":[\"2016-11-07T00:45:12Z\"],\"sourceU...</td>\n",
       "      <td>NaN</td>\n",
       "      <td>...</td>\n",
       "      <td>NaN</td>\n",
       "      <td>NaN</td>\n",
       "      <td>NaN</td>\n",
       "      <td>NaN</td>\n",
       "      <td>NaN</td>\n",
       "      <td>https://www.walmart.com/ip/Josmo-8190-Plain-In...</td>\n",
       "      <td>699302044036</td>\n",
       "      <td>NaN</td>\n",
       "      <td>NaN</td>\n",
       "      <td>NaN</td>\n",
       "    </tr>\n",
       "    <tr>\n",
       "      <th>2</th>\n",
       "      <td>AVpfHsWP1cnluZ0-eVZ7</td>\n",
       "      <td>NaN</td>\n",
       "      <td>SERVUS BY HONEYWELL</td>\n",
       "      <td>All Men's Shoes,Shoes,Men's Shoes,Clothing</td>\n",
       "      <td>NaN</td>\n",
       "      <td>NaN</td>\n",
       "      <td>2016-06-14T04:29:57Z</td>\n",
       "      <td>2016-07-09T20:26:48Z</td>\n",
       "      <td>[{\"dateSeen\":[\"2016-07-09T20:26:48Z\"],\"sourceU...</td>\n",
       "      <td>NaN</td>\n",
       "      <td>...</td>\n",
       "      <td>NaN</td>\n",
       "      <td>NaN</td>\n",
       "      <td>NaN</td>\n",
       "      <td>NaN</td>\n",
       "      <td>NaN</td>\n",
       "      <td>http://www.walmart.com/ip/Studs-Shoe-Large-Pr-...</td>\n",
       "      <td>NaN</td>\n",
       "      <td>NaN</td>\n",
       "      <td>NaN</td>\n",
       "      <td>NaN</td>\n",
       "    </tr>\n",
       "    <tr>\n",
       "      <th>3</th>\n",
       "      <td>AVpfHsWP1cnluZ0-eVZ7</td>\n",
       "      <td>NaN</td>\n",
       "      <td>SERVUS BY HONEYWELL</td>\n",
       "      <td>All Men's Shoes,Shoes,Men's Shoes,Clothing</td>\n",
       "      <td>NaN</td>\n",
       "      <td>NaN</td>\n",
       "      <td>2016-06-14T04:29:57Z</td>\n",
       "      <td>2016-07-09T20:26:48Z</td>\n",
       "      <td>[{\"dateSeen\":[\"2016-07-09T20:26:48Z\"],\"sourceU...</td>\n",
       "      <td>NaN</td>\n",
       "      <td>...</td>\n",
       "      <td>NaN</td>\n",
       "      <td>NaN</td>\n",
       "      <td>NaN</td>\n",
       "      <td>NaN</td>\n",
       "      <td>NaN</td>\n",
       "      <td>http://www.walmart.com/ip/Studs-Shoe-Large-Pr-...</td>\n",
       "      <td>NaN</td>\n",
       "      <td>NaN</td>\n",
       "      <td>NaN</td>\n",
       "      <td>NaN</td>\n",
       "    </tr>\n",
       "    <tr>\n",
       "      <th>4</th>\n",
       "      <td>AVpfHsWP1cnluZ0-eVZ7</td>\n",
       "      <td>NaN</td>\n",
       "      <td>SERVUS BY HONEYWELL</td>\n",
       "      <td>All Men's Shoes,Shoes,Men's Shoes,Clothing</td>\n",
       "      <td>NaN</td>\n",
       "      <td>NaN</td>\n",
       "      <td>2016-06-14T04:29:57Z</td>\n",
       "      <td>2016-07-09T20:26:48Z</td>\n",
       "      <td>[{\"dateSeen\":[\"2016-07-09T20:26:48Z\"],\"sourceU...</td>\n",
       "      <td>NaN</td>\n",
       "      <td>...</td>\n",
       "      <td>NaN</td>\n",
       "      <td>NaN</td>\n",
       "      <td>NaN</td>\n",
       "      <td>NaN</td>\n",
       "      <td>NaN</td>\n",
       "      <td>http://www.walmart.com/ip/Studs-Shoe-Large-Pr-...</td>\n",
       "      <td>NaN</td>\n",
       "      <td>NaN</td>\n",
       "      <td>NaN</td>\n",
       "      <td>NaN</td>\n",
       "    </tr>\n",
       "  </tbody>\n",
       "</table>\n",
       "<p>5 rows × 48 columns</p>\n",
       "</div>"
      ],
      "text/plain": [
       "                     id asins                brand  \\\n",
       "0  AVpfHrJ6ilAPnD_xVXOI   NaN                Josmo   \n",
       "1  AVpfHrJ6ilAPnD_xVXOI   NaN                Josmo   \n",
       "2  AVpfHsWP1cnluZ0-eVZ7   NaN  SERVUS BY HONEYWELL   \n",
       "3  AVpfHsWP1cnluZ0-eVZ7   NaN  SERVUS BY HONEYWELL   \n",
       "4  AVpfHsWP1cnluZ0-eVZ7   NaN  SERVUS BY HONEYWELL   \n",
       "\n",
       "                                   categories colors  count  \\\n",
       "0  Clothing,Shoes,Men's Shoes,All Men's Shoes    NaN    NaN   \n",
       "1  Clothing,Shoes,Men's Shoes,All Men's Shoes    NaN    NaN   \n",
       "2  All Men's Shoes,Shoes,Men's Shoes,Clothing    NaN    NaN   \n",
       "3  All Men's Shoes,Shoes,Men's Shoes,Clothing    NaN    NaN   \n",
       "4  All Men's Shoes,Shoes,Men's Shoes,Clothing    NaN    NaN   \n",
       "\n",
       "              dateadded           dateupdated  \\\n",
       "0  2016-11-07T00:45:12Z  2016-11-07T00:45:12Z   \n",
       "1  2016-11-07T00:45:12Z  2016-11-07T00:45:12Z   \n",
       "2  2016-06-14T04:29:57Z  2016-07-09T20:26:48Z   \n",
       "3  2016-06-14T04:29:57Z  2016-07-09T20:26:48Z   \n",
       "4  2016-06-14T04:29:57Z  2016-07-09T20:26:48Z   \n",
       "\n",
       "                                        descriptions dimension  ...  \\\n",
       "0  [{\"dateSeen\":[\"2016-11-07T00:45:12Z\"],\"sourceU...       NaN  ...   \n",
       "1  [{\"dateSeen\":[\"2016-11-07T00:45:12Z\"],\"sourceU...       NaN  ...   \n",
       "2  [{\"dateSeen\":[\"2016-07-09T20:26:48Z\"],\"sourceU...       NaN  ...   \n",
       "3  [{\"dateSeen\":[\"2016-07-09T20:26:48Z\"],\"sourceU...       NaN  ...   \n",
       "4  [{\"dateSeen\":[\"2016-07-09T20:26:48Z\"],\"sourceU...       NaN  ...   \n",
       "\n",
       "   prices_warranty quantities  reviews sizes  skus  \\\n",
       "0              NaN        NaN      NaN   NaN   NaN   \n",
       "1              NaN        NaN      NaN   NaN   NaN   \n",
       "2              NaN        NaN      NaN   NaN   NaN   \n",
       "3              NaN        NaN      NaN   NaN   NaN   \n",
       "4              NaN        NaN      NaN   NaN   NaN   \n",
       "\n",
       "                                          sourceurls           upc  vin  \\\n",
       "0  https://www.walmart.com/ip/Josmo-8190-Plain-In...  699302044036  NaN   \n",
       "1  https://www.walmart.com/ip/Josmo-8190-Plain-In...  699302044036  NaN   \n",
       "2  http://www.walmart.com/ip/Studs-Shoe-Large-Pr-...           NaN  NaN   \n",
       "3  http://www.walmart.com/ip/Studs-Shoe-Large-Pr-...           NaN  NaN   \n",
       "4  http://www.walmart.com/ip/Studs-Shoe-Large-Pr-...           NaN  NaN   \n",
       "\n",
       "  websiteids weight  \n",
       "0        NaN    NaN  \n",
       "1        NaN    NaN  \n",
       "2        NaN    NaN  \n",
       "3        NaN    NaN  \n",
       "4        NaN    NaN  \n",
       "\n",
       "[5 rows x 48 columns]"
      ]
     },
     "execution_count": 3,
     "metadata": {},
     "output_type": "execute_result"
    }
   ],
   "source": [
    "df.head()"
   ]
  },
  {
   "cell_type": "code",
   "execution_count": 4,
   "metadata": {},
   "outputs": [
    {
     "data": {
      "text/html": [
       "<div>\n",
       "<style scoped>\n",
       "    .dataframe tbody tr th:only-of-type {\n",
       "        vertical-align: middle;\n",
       "    }\n",
       "\n",
       "    .dataframe tbody tr th {\n",
       "        vertical-align: top;\n",
       "    }\n",
       "\n",
       "    .dataframe thead th {\n",
       "        text-align: right;\n",
       "    }\n",
       "</style>\n",
       "<table border=\"1\" class=\"dataframe\">\n",
       "  <thead>\n",
       "    <tr style=\"text-align: right;\">\n",
       "      <th></th>\n",
       "      <th>count</th>\n",
       "      <th>ean</th>\n",
       "      <th>flavors</th>\n",
       "      <th>isbn</th>\n",
       "    </tr>\n",
       "  </thead>\n",
       "  <tbody>\n",
       "    <tr>\n",
       "      <th>count</th>\n",
       "      <td>0.0</td>\n",
       "      <td>9.999000e+03</td>\n",
       "      <td>0.0</td>\n",
       "      <td>0.0</td>\n",
       "    </tr>\n",
       "    <tr>\n",
       "      <th>mean</th>\n",
       "      <td>NaN</td>\n",
       "      <td>8.369699e+11</td>\n",
       "      <td>NaN</td>\n",
       "      <td>NaN</td>\n",
       "    </tr>\n",
       "    <tr>\n",
       "      <th>std</th>\n",
       "      <td>NaN</td>\n",
       "      <td>1.021830e+12</td>\n",
       "      <td>NaN</td>\n",
       "      <td>NaN</td>\n",
       "    </tr>\n",
       "    <tr>\n",
       "      <th>min</th>\n",
       "      <td>NaN</td>\n",
       "      <td>1.014667e+07</td>\n",
       "      <td>NaN</td>\n",
       "      <td>NaN</td>\n",
       "    </tr>\n",
       "    <tr>\n",
       "      <th>25%</th>\n",
       "      <td>NaN</td>\n",
       "      <td>6.759119e+11</td>\n",
       "      <td>NaN</td>\n",
       "      <td>NaN</td>\n",
       "    </tr>\n",
       "    <tr>\n",
       "      <th>50%</th>\n",
       "      <td>NaN</td>\n",
       "      <td>8.367772e+11</td>\n",
       "      <td>NaN</td>\n",
       "      <td>NaN</td>\n",
       "    </tr>\n",
       "    <tr>\n",
       "      <th>75%</th>\n",
       "      <td>NaN</td>\n",
       "      <td>8.871196e+11</td>\n",
       "      <td>NaN</td>\n",
       "      <td>NaN</td>\n",
       "    </tr>\n",
       "    <tr>\n",
       "      <th>max</th>\n",
       "      <td>NaN</td>\n",
       "      <td>9.416997e+12</td>\n",
       "      <td>NaN</td>\n",
       "      <td>NaN</td>\n",
       "    </tr>\n",
       "  </tbody>\n",
       "</table>\n",
       "</div>"
      ],
      "text/plain": [
       "       count           ean  flavors  isbn\n",
       "count    0.0  9.999000e+03      0.0   0.0\n",
       "mean     NaN  8.369699e+11      NaN   NaN\n",
       "std      NaN  1.021830e+12      NaN   NaN\n",
       "min      NaN  1.014667e+07      NaN   NaN\n",
       "25%      NaN  6.759119e+11      NaN   NaN\n",
       "50%      NaN  8.367772e+11      NaN   NaN\n",
       "75%      NaN  8.871196e+11      NaN   NaN\n",
       "max      NaN  9.416997e+12      NaN   NaN"
      ]
     },
     "execution_count": 4,
     "metadata": {},
     "output_type": "execute_result"
    }
   ],
   "source": [
    "df.describe()"
   ]
  },
  {
   "cell_type": "code",
   "execution_count": 5,
   "metadata": {},
   "outputs": [
    {
     "data": {
      "text/plain": [
       "id                     0.000\n",
       "asins                  0.867\n",
       "brand                  0.013\n",
       "categories             0.000\n",
       "colors                 0.430\n",
       "count                  1.000\n",
       "dateadded              0.000\n",
       "dateupdated            0.000\n",
       "descriptions           0.489\n",
       "dimension              0.846\n",
       "ean                    0.484\n",
       "features               0.278\n",
       "flavors                1.000\n",
       "imageurls              0.054\n",
       "isbn                   1.000\n",
       "keys                   0.000\n",
       "manufacturer           0.654\n",
       "manufacturernumber     0.219\n",
       "merchants              0.276\n",
       "name                   0.000\n",
       "prices_amountmin       0.001\n",
       "prices_amountmax       0.000\n",
       "prices_availability    0.990\n",
       "prices_color           0.961\n",
       "prices_condition       0.349\n",
       "prices_count           0.996\n",
       "prices_currency        0.004\n",
       "prices_dateadded       0.001\n",
       "prices_dateseen        0.001\n",
       "prices_flavor          0.996\n",
       "prices_issale          0.003\n",
       "prices_merchant        0.286\n",
       "prices_offer           0.686\n",
       "prices_returnpolicy    0.947\n",
       "prices_shipping        0.703\n",
       "prices_size            0.966\n",
       "prices_source          0.999\n",
       "prices_sourceurls      0.005\n",
       "prices_warranty        0.994\n",
       "quantities             0.999\n",
       "reviews                0.914\n",
       "sizes                  0.692\n",
       "skus                   0.549\n",
       "sourceurls             0.006\n",
       "upc                    0.442\n",
       "vin                    0.998\n",
       "websiteids             1.000\n",
       "weight                 0.955\n",
       "dtype: float64"
      ]
     },
     "execution_count": 5,
     "metadata": {},
     "output_type": "execute_result"
    }
   ],
   "source": [
    "round(df.isna().sum() / df.shape[0], 3)"
   ]
  },
  {
   "cell_type": "markdown",
   "metadata": {},
   "source": [
    "## Dropping Columns\n",
    "The data is fairly messy as it currently stands. There are lots of missing values (some columns are even entirely missing) and there are various data types that need corrected. Given the limited number of questions being answered for this task, a good chunk of the available data is irrelevant. Right off the bat, let's eliminate any columns that are missing 80% or more of their values. This will help reduce the size of the data we're working with and make further cleaning processes a bit easier."
   ]
  },
  {
   "cell_type": "code",
   "execution_count": 6,
   "metadata": {},
   "outputs": [
    {
     "data": {
      "text/plain": [
       "['asins',\n",
       " 'count',\n",
       " 'dimension',\n",
       " 'flavors',\n",
       " 'isbn',\n",
       " 'prices_availability',\n",
       " 'prices_color',\n",
       " 'prices_count',\n",
       " 'prices_flavor',\n",
       " 'prices_returnpolicy',\n",
       " 'prices_size',\n",
       " 'prices_source',\n",
       " 'prices_warranty',\n",
       " 'quantities',\n",
       " 'reviews',\n",
       " 'vin',\n",
       " 'websiteids',\n",
       " 'weight']"
      ]
     },
     "execution_count": 6,
     "metadata": {},
     "output_type": "execute_result"
    }
   ],
   "source": [
    "cols_to_drop = [col for col in df.columns if df[col].isna().sum() >= 0.8*df.shape[0]]\n",
    "cols_to_drop"
   ]
  },
  {
   "cell_type": "code",
   "execution_count": 7,
   "metadata": {},
   "outputs": [
    {
     "data": {
      "text/plain": [
       "Index(['id', 'brand', 'categories', 'colors', 'dateadded', 'dateupdated',\n",
       "       'descriptions', 'ean', 'features', 'imageurls', 'keys', 'manufacturer',\n",
       "       'manufacturernumber', 'merchants', 'name', 'prices_amountmin',\n",
       "       'prices_amountmax', 'prices_condition', 'prices_currency',\n",
       "       'prices_dateadded', 'prices_dateseen', 'prices_issale',\n",
       "       'prices_merchant', 'prices_offer', 'prices_shipping',\n",
       "       'prices_sourceurls', 'sizes', 'skus', 'sourceurls', 'upc'],\n",
       "      dtype='object')"
      ]
     },
     "execution_count": 7,
     "metadata": {},
     "output_type": "execute_result"
    }
   ],
   "source": [
    "df.drop(columns=cols_to_drop, inplace=True)\n",
    "df.columns"
   ]
  },
  {
   "cell_type": "markdown",
   "metadata": {},
   "source": [
    "Starting to get somewhere, but there's still more columns to drop:"
   ]
  },
  {
   "cell_type": "code",
   "execution_count": 8,
   "metadata": {},
   "outputs": [
    {
     "name": "stdout",
     "output_type": "stream",
     "text": [
      "<class 'pandas.core.frame.DataFrame'>\n",
      "RangeIndex: 19387 entries, 0 to 19386\n",
      "Data columns (total 7 columns):\n",
      " #   Column            Non-Null Count  Dtype \n",
      "---  ------            --------------  ----- \n",
      " 0   brand             19129 non-null  object\n",
      " 1   categories        19387 non-null  object\n",
      " 2   colors            11048 non-null  object\n",
      " 3   name              19387 non-null  object\n",
      " 4   prices_amountmin  19377 non-null  object\n",
      " 5   prices_amountmax  19387 non-null  object\n",
      " 6   prices_currency   19311 non-null  object\n",
      "dtypes: object(7)\n",
      "memory usage: 1.0+ MB\n"
     ]
    }
   ],
   "source": [
    "df.drop(columns=['id', 'dateadded', 'dateupdated', 'descriptions', 'ean', \n",
    "                 'features', 'imageurls', 'keys', 'manufacturer',\n",
    "                 'manufacturernumber', 'merchants', 'prices_condition',\n",
    "                 'prices_dateadded', 'prices_dateseen', 'prices_issale',\n",
    "                 'prices_merchant', 'prices_offer', 'prices_shipping',\n",
    "                 'prices_sourceurls', 'sizes', 'skus', 'sourceurls', 'upc'],\n",
    "       inplace=True)\n",
    "df.info()"
   ]
  },
  {
   "cell_type": "markdown",
   "metadata": {},
   "source": [
    "## Adjusting Data Types"
   ]
  },
  {
   "cell_type": "markdown",
   "metadata": {},
   "source": [
    "Some finishing touches by adjusting the data types:"
   ]
  },
  {
   "cell_type": "code",
   "execution_count": 9,
   "metadata": {
    "tags": []
   },
   "outputs": [
    {
     "name": "stdout",
     "output_type": "stream",
     "text": [
      "<class 'pandas.core.frame.DataFrame'>\n",
      "RangeIndex: 19387 entries, 0 to 19386\n",
      "Data columns (total 7 columns):\n",
      " #   Column            Non-Null Count  Dtype  \n",
      "---  ------            --------------  -----  \n",
      " 0   brand             19129 non-null  object \n",
      " 1   categories        19387 non-null  object \n",
      " 2   colors            11048 non-null  object \n",
      " 3   name              19387 non-null  object \n",
      " 4   prices_amountmin  19294 non-null  float32\n",
      " 5   prices_amountmax  19350 non-null  float32\n",
      " 6   prices_currency   19311 non-null  object \n",
      "dtypes: float32(2), object(5)\n",
      "memory usage: 908.9+ KB\n"
     ]
    }
   ],
   "source": [
    "df.prices_amountmin = pd.to_numeric(df.prices_amountmin, errors='coerce', downcast='float')\n",
    "df.prices_amountmax = pd.to_numeric(df.prices_amountmax, errors='coerce', downcast='float')\n",
    "df.info()"
   ]
  },
  {
   "cell_type": "code",
   "execution_count": 10,
   "metadata": {},
   "outputs": [
    {
     "data": {
      "text/html": [
       "<div>\n",
       "<style scoped>\n",
       "    .dataframe tbody tr th:only-of-type {\n",
       "        vertical-align: middle;\n",
       "    }\n",
       "\n",
       "    .dataframe tbody tr th {\n",
       "        vertical-align: top;\n",
       "    }\n",
       "\n",
       "    .dataframe thead th {\n",
       "        text-align: right;\n",
       "    }\n",
       "</style>\n",
       "<table border=\"1\" class=\"dataframe\">\n",
       "  <thead>\n",
       "    <tr style=\"text-align: right;\">\n",
       "      <th></th>\n",
       "      <th>brand</th>\n",
       "      <th>categories</th>\n",
       "      <th>colors</th>\n",
       "      <th>name</th>\n",
       "      <th>prices_amountmin</th>\n",
       "      <th>prices_amountmax</th>\n",
       "      <th>prices_currency</th>\n",
       "    </tr>\n",
       "  </thead>\n",
       "  <tbody>\n",
       "    <tr>\n",
       "      <th>0</th>\n",
       "      <td>Josmo</td>\n",
       "      <td>Clothing,Shoes,Men's Shoes,All Men's Shoes</td>\n",
       "      <td>NaN</td>\n",
       "      <td>Josmo 8190 Plain Infant Walking Shoes, Navy - ...</td>\n",
       "      <td>39.889999</td>\n",
       "      <td>39.889999</td>\n",
       "      <td>USD</td>\n",
       "    </tr>\n",
       "    <tr>\n",
       "      <th>1</th>\n",
       "      <td>Josmo</td>\n",
       "      <td>Clothing,Shoes,Men's Shoes,All Men's Shoes</td>\n",
       "      <td>NaN</td>\n",
       "      <td>Josmo 8190 Plain Infant Walking Shoes, Navy - ...</td>\n",
       "      <td>51.990002</td>\n",
       "      <td>51.990002</td>\n",
       "      <td>USD</td>\n",
       "    </tr>\n",
       "    <tr>\n",
       "      <th>2</th>\n",
       "      <td>SERVUS BY HONEYWELL</td>\n",
       "      <td>All Men's Shoes,Shoes,Men's Shoes,Clothing</td>\n",
       "      <td>NaN</td>\n",
       "      <td>Servus By Honeywell Shoe Studs Zsr101blmlg</td>\n",
       "      <td>40.020000</td>\n",
       "      <td>40.020000</td>\n",
       "      <td>USD</td>\n",
       "    </tr>\n",
       "    <tr>\n",
       "      <th>3</th>\n",
       "      <td>SERVUS BY HONEYWELL</td>\n",
       "      <td>All Men's Shoes,Shoes,Men's Shoes,Clothing</td>\n",
       "      <td>NaN</td>\n",
       "      <td>Servus By Honeywell Shoe Studs Zsr101blmlg</td>\n",
       "      <td>50.310001</td>\n",
       "      <td>50.310001</td>\n",
       "      <td>USD</td>\n",
       "    </tr>\n",
       "    <tr>\n",
       "      <th>4</th>\n",
       "      <td>SERVUS BY HONEYWELL</td>\n",
       "      <td>All Men's Shoes,Shoes,Men's Shoes,Clothing</td>\n",
       "      <td>NaN</td>\n",
       "      <td>Servus By Honeywell Shoe Studs Zsr101blmlg</td>\n",
       "      <td>46.259998</td>\n",
       "      <td>46.259998</td>\n",
       "      <td>USD</td>\n",
       "    </tr>\n",
       "  </tbody>\n",
       "</table>\n",
       "</div>"
      ],
      "text/plain": [
       "                 brand                                  categories colors  \\\n",
       "0                Josmo  Clothing,Shoes,Men's Shoes,All Men's Shoes    NaN   \n",
       "1                Josmo  Clothing,Shoes,Men's Shoes,All Men's Shoes    NaN   \n",
       "2  SERVUS BY HONEYWELL  All Men's Shoes,Shoes,Men's Shoes,Clothing    NaN   \n",
       "3  SERVUS BY HONEYWELL  All Men's Shoes,Shoes,Men's Shoes,Clothing    NaN   \n",
       "4  SERVUS BY HONEYWELL  All Men's Shoes,Shoes,Men's Shoes,Clothing    NaN   \n",
       "\n",
       "                                                name  prices_amountmin  \\\n",
       "0  Josmo 8190 Plain Infant Walking Shoes, Navy - ...         39.889999   \n",
       "1  Josmo 8190 Plain Infant Walking Shoes, Navy - ...         51.990002   \n",
       "2         Servus By Honeywell Shoe Studs Zsr101blmlg         40.020000   \n",
       "3         Servus By Honeywell Shoe Studs Zsr101blmlg         50.310001   \n",
       "4         Servus By Honeywell Shoe Studs Zsr101blmlg         46.259998   \n",
       "\n",
       "   prices_amountmax prices_currency  \n",
       "0         39.889999             USD  \n",
       "1         51.990002             USD  \n",
       "2         40.020000             USD  \n",
       "3         50.310001             USD  \n",
       "4         46.259998             USD  "
      ]
     },
     "execution_count": 10,
     "metadata": {},
     "output_type": "execute_result"
    }
   ],
   "source": [
    "df.head()"
   ]
  },
  {
   "cell_type": "markdown",
   "metadata": {},
   "source": [
    "Much better! \n",
    "\n",
    "## Cleaning Final Dataframe\n",
    "### Prices\n",
    "The two columns for price (`prices_amountmin` and `prices_amountmax`) caught my eye since the first five rows in the dataframe have the same value for both. To investigate this further, let's check what percentage of the rows have the same value in both columns."
   ]
  },
  {
   "cell_type": "code",
   "execution_count": 11,
   "metadata": {},
   "outputs": [
    {
     "data": {
      "text/plain": [
       "0.9614690256357353"
      ]
     },
     "execution_count": 11,
     "metadata": {},
     "output_type": "execute_result"
    }
   ],
   "source": [
    "sum(df.prices_amountmin == df.prices_amountmax) / df.shape[0]"
   ]
  },
  {
   "cell_type": "markdown",
   "metadata": {},
   "source": [
    "Over 96%! As a result, I'm okay with combining the two columns into a single column called `price` by taking the average."
   ]
  },
  {
   "cell_type": "code",
   "execution_count": 12,
   "metadata": {},
   "outputs": [
    {
     "data": {
      "text/html": [
       "<div>\n",
       "<style scoped>\n",
       "    .dataframe tbody tr th:only-of-type {\n",
       "        vertical-align: middle;\n",
       "    }\n",
       "\n",
       "    .dataframe tbody tr th {\n",
       "        vertical-align: top;\n",
       "    }\n",
       "\n",
       "    .dataframe thead th {\n",
       "        text-align: right;\n",
       "    }\n",
       "</style>\n",
       "<table border=\"1\" class=\"dataframe\">\n",
       "  <thead>\n",
       "    <tr style=\"text-align: right;\">\n",
       "      <th></th>\n",
       "      <th>brand</th>\n",
       "      <th>categories</th>\n",
       "      <th>colors</th>\n",
       "      <th>name</th>\n",
       "      <th>prices_currency</th>\n",
       "      <th>price</th>\n",
       "    </tr>\n",
       "  </thead>\n",
       "  <tbody>\n",
       "    <tr>\n",
       "      <th>0</th>\n",
       "      <td>Josmo</td>\n",
       "      <td>Clothing,Shoes,Men's Shoes,All Men's Shoes</td>\n",
       "      <td>NaN</td>\n",
       "      <td>Josmo 8190 Plain Infant Walking Shoes, Navy - ...</td>\n",
       "      <td>USD</td>\n",
       "      <td>39.889999</td>\n",
       "    </tr>\n",
       "    <tr>\n",
       "      <th>1</th>\n",
       "      <td>Josmo</td>\n",
       "      <td>Clothing,Shoes,Men's Shoes,All Men's Shoes</td>\n",
       "      <td>NaN</td>\n",
       "      <td>Josmo 8190 Plain Infant Walking Shoes, Navy - ...</td>\n",
       "      <td>USD</td>\n",
       "      <td>51.990002</td>\n",
       "    </tr>\n",
       "    <tr>\n",
       "      <th>2</th>\n",
       "      <td>SERVUS BY HONEYWELL</td>\n",
       "      <td>All Men's Shoes,Shoes,Men's Shoes,Clothing</td>\n",
       "      <td>NaN</td>\n",
       "      <td>Servus By Honeywell Shoe Studs Zsr101blmlg</td>\n",
       "      <td>USD</td>\n",
       "      <td>40.020000</td>\n",
       "    </tr>\n",
       "    <tr>\n",
       "      <th>3</th>\n",
       "      <td>SERVUS BY HONEYWELL</td>\n",
       "      <td>All Men's Shoes,Shoes,Men's Shoes,Clothing</td>\n",
       "      <td>NaN</td>\n",
       "      <td>Servus By Honeywell Shoe Studs Zsr101blmlg</td>\n",
       "      <td>USD</td>\n",
       "      <td>50.310001</td>\n",
       "    </tr>\n",
       "    <tr>\n",
       "      <th>4</th>\n",
       "      <td>SERVUS BY HONEYWELL</td>\n",
       "      <td>All Men's Shoes,Shoes,Men's Shoes,Clothing</td>\n",
       "      <td>NaN</td>\n",
       "      <td>Servus By Honeywell Shoe Studs Zsr101blmlg</td>\n",
       "      <td>USD</td>\n",
       "      <td>46.259998</td>\n",
       "    </tr>\n",
       "  </tbody>\n",
       "</table>\n",
       "</div>"
      ],
      "text/plain": [
       "                 brand                                  categories colors  \\\n",
       "0                Josmo  Clothing,Shoes,Men's Shoes,All Men's Shoes    NaN   \n",
       "1                Josmo  Clothing,Shoes,Men's Shoes,All Men's Shoes    NaN   \n",
       "2  SERVUS BY HONEYWELL  All Men's Shoes,Shoes,Men's Shoes,Clothing    NaN   \n",
       "3  SERVUS BY HONEYWELL  All Men's Shoes,Shoes,Men's Shoes,Clothing    NaN   \n",
       "4  SERVUS BY HONEYWELL  All Men's Shoes,Shoes,Men's Shoes,Clothing    NaN   \n",
       "\n",
       "                                                name prices_currency  \\\n",
       "0  Josmo 8190 Plain Infant Walking Shoes, Navy - ...             USD   \n",
       "1  Josmo 8190 Plain Infant Walking Shoes, Navy - ...             USD   \n",
       "2         Servus By Honeywell Shoe Studs Zsr101blmlg             USD   \n",
       "3         Servus By Honeywell Shoe Studs Zsr101blmlg             USD   \n",
       "4         Servus By Honeywell Shoe Studs Zsr101blmlg             USD   \n",
       "\n",
       "       price  \n",
       "0  39.889999  \n",
       "1  51.990002  \n",
       "2  40.020000  \n",
       "3  50.310001  \n",
       "4  46.259998  "
      ]
     },
     "execution_count": 12,
     "metadata": {},
     "output_type": "execute_result"
    }
   ],
   "source": [
    "df['price'] = np.mean([df.prices_amountmin, df.prices_amountmax], axis=0)\n",
    "df_cleaned = df.drop(columns=['prices_amountmin', 'prices_amountmax'])\n",
    "df_cleaned.head()"
   ]
  },
  {
   "cell_type": "markdown",
   "metadata": {},
   "source": [
    "Next, let's check the value counts for the `prices_currency` column."
   ]
  },
  {
   "cell_type": "code",
   "execution_count": 17,
   "metadata": {},
   "outputs": [
    {
     "data": {
      "text/plain": [
       "USD                                                   18524\n",
       "AUD                                                     338\n",
       "CAD                                                     303\n",
       "EUR                                                     107\n",
       "GBP                                                      22\n",
       "new                                                       3\n",
       "New with box                                              3\n",
       "UnbeatableSale.com, Inc. - Walmart.com                    3\n",
       "PalmBeach Jewelry - Walmart.com                           3\n",
       "Wholesale Costume and Party Supplies - Walmart.com        2\n",
       "New without tags                                          1\n",
       "Shoes.com                                                 1\n",
       "SHOEBACCA LTD. - Walmart.com                              1\n",
       "Name: prices_currency, dtype: int64"
      ]
     },
     "execution_count": 17,
     "metadata": {},
     "output_type": "execute_result"
    }
   ],
   "source": [
    "df_cleaned.prices_currency.value_counts()"
   ]
  },
  {
   "cell_type": "markdown",
   "metadata": {},
   "source": [
    "It appears that some data was incorrectly placed in the `prices_currency` column in the original dataset. The overwhelming majority is priced in USD though. We could either work on converting the other currencies to USD for accurate comparisons, or simply drop those rows. For the sake of simplicity in this kernel, let's drop the rows."
   ]
  },
  {
   "cell_type": "code",
   "execution_count": 18,
   "metadata": {},
   "outputs": [
    {
     "data": {
      "text/plain": [
       "USD    18524\n",
       "Name: prices_currency, dtype: int64"
      ]
     },
     "execution_count": 18,
     "metadata": {},
     "output_type": "execute_result"
    }
   ],
   "source": [
    "df_cleaned = df_cleaned[df_cleaned.prices_currency == 'USD']\n",
    "df_cleaned.prices_currency.value_counts()"
   ]
  },
  {
   "cell_type": "markdown",
   "metadata": {},
   "source": [
    "### Missing Values"
   ]
  },
  {
   "cell_type": "code",
   "execution_count": 56,
   "metadata": {},
   "outputs": [
    {
     "data": {
      "text/plain": [
       "brand                17\n",
       "categories            0\n",
       "colors             7984\n",
       "name                  0\n",
       "prices_currency       0\n",
       "price                 0\n",
       "dtype: int64"
      ]
     },
     "execution_count": 56,
     "metadata": {},
     "output_type": "execute_result"
    }
   ],
   "source": [
    "df_cleaned.isna().sum()"
   ]
  },
  {
   "cell_type": "markdown",
   "metadata": {},
   "source": [
    "The missing values in the `color` column are fine for now but the 17 missing values for the `brand` column need handled."
   ]
  },
  {
   "cell_type": "code",
   "execution_count": 58,
   "metadata": {},
   "outputs": [
    {
     "data": {
      "text/plain": [
       "brand                 0\n",
       "categories            0\n",
       "colors             7981\n",
       "name                  0\n",
       "prices_currency       0\n",
       "price                 0\n",
       "dtype: int64"
      ]
     },
     "execution_count": 58,
     "metadata": {},
     "output_type": "execute_result"
    }
   ],
   "source": [
    "df_cleaned.dropna(axis=0, subset=['brand'], inplace=True)\n",
    "df_cleaned.isna().sum()"
   ]
  },
  {
   "cell_type": "markdown",
   "metadata": {},
   "source": [
    "### Standardizing Brands\n",
    "Finally, let's change all of the brand names to lowercase. This is to help prevent any variations in capitalization from being classified as different brands. While a more serious method of cleaning the brand names would need to be employed in any sort of production code, this will suffice for now."
   ]
  },
  {
   "cell_type": "code",
   "execution_count": 59,
   "metadata": {},
   "outputs": [
    {
     "data": {
      "text/plain": [
       "0                  josmo\n",
       "1                  josmo\n",
       "2    servus by honeywell\n",
       "3    servus by honeywell\n",
       "4    servus by honeywell\n",
       "Name: brand, dtype: object"
      ]
     },
     "execution_count": 59,
     "metadata": {},
     "output_type": "execute_result"
    }
   ],
   "source": [
    "df_cleaned.brand = df_cleaned.brand.apply(lambda x: x.lower(), convert_dtype=False)\n",
    "df_cleaned.brand.head()"
   ]
  },
  {
   "cell_type": "markdown",
   "metadata": {},
   "source": [
    "# Answering the Questions\n",
    "## What is the average price of each distinct brand listed?\n",
    "To begin answering this questions, let's first take a look at how many unique brands are in the data."
   ]
  },
  {
   "cell_type": "code",
   "execution_count": 60,
   "metadata": {},
   "outputs": [
    {
     "data": {
      "text/plain": [
       "1735"
      ]
     },
     "execution_count": 60,
     "metadata": {},
     "output_type": "execute_result"
    }
   ],
   "source": [
    "df_cleaned.brand.nunique()"
   ]
  },
  {
   "cell_type": "markdown",
   "metadata": {},
   "source": [
    "Wow! That's way too many to effectively visualize. Let's limit the brands we look at to only those with more than 50 rows of data. This will help eliminate random, unheard of brands with only a couple entries."
   ]
  },
  {
   "cell_type": "code",
   "execution_count": 61,
   "metadata": {},
   "outputs": [
    {
     "data": {
      "text/plain": [
       "nike                           1778\n",
       "ralph lauren                    699\n",
       "puma                            610\n",
       "vans                            386\n",
       "new balance                     371\n",
       "reebok                          277\n",
       "adidas                          258\n",
       "jordan                          200\n",
       "superior glove works            182\n",
       "fossa apparel                   174\n",
       "fuse lenses                     174\n",
       "skechers                        165\n",
       "converse                        153\n",
       "dickies                         144\n",
       "unbranded                       134\n",
       "unique bargains                 127\n",
       "berne apparel                   126\n",
       "crocs                           120\n",
       "toms                            115\n",
       "asics                           114\n",
       "kinco                           110\n",
       "national safety apparel inc     107\n",
       "under armour                    105\n",
       "gameday boots                   103\n",
       "stacy adams                      98\n",
       "scully                           96\n",
       "georgia boot                     94\n",
       "polo ralph lauren                92\n",
       "carhartt                         90\n",
       "justin boots                     90\n",
       "carrera                          86\n",
       "alpine swiss                     85\n",
       "portwest                         84\n",
       "propet                           84\n",
       "azzuro                           83\n",
       "kenneth cole ny                  79\n",
       "muk luks                         77\n",
       "academie                         68\n",
       "fizik                            66\n",
       "onguard                          64\n",
       "casio                            61\n",
       "dr. martens                      59\n",
       "dockers                          59\n",
       "bgood                            59\n",
       "ray-ban                          57\n",
       "invicta                          57\n",
       "dvs                              56\n",
       "cole haan                        55\n",
       "rocky                            54\n",
       "caterpillar                      54\n",
       "maui jim                         53\n",
       "fila                             53\n",
       "Name: brand, dtype: int64"
      ]
     },
     "execution_count": 61,
     "metadata": {},
     "output_type": "execute_result"
    }
   ],
   "source": [
    "brands_above_50 = df_cleaned.brand.value_counts()[df_cleaned.brand.value_counts() > 50]\n",
    "brands_above_50"
   ]
  },
  {
   "cell_type": "code",
   "execution_count": 62,
   "metadata": {},
   "outputs": [
    {
     "data": {
      "text/html": [
       "<div>\n",
       "<style scoped>\n",
       "    .dataframe tbody tr th:only-of-type {\n",
       "        vertical-align: middle;\n",
       "    }\n",
       "\n",
       "    .dataframe tbody tr th {\n",
       "        vertical-align: top;\n",
       "    }\n",
       "\n",
       "    .dataframe thead th {\n",
       "        text-align: right;\n",
       "    }\n",
       "</style>\n",
       "<table border=\"1\" class=\"dataframe\">\n",
       "  <thead>\n",
       "    <tr style=\"text-align: right;\">\n",
       "      <th></th>\n",
       "      <th>price</th>\n",
       "    </tr>\n",
       "    <tr>\n",
       "      <th>brand</th>\n",
       "      <th></th>\n",
       "    </tr>\n",
       "  </thead>\n",
       "  <tbody>\n",
       "    <tr>\n",
       "      <th>ralph lauren</th>\n",
       "      <td>509.997437</td>\n",
       "    </tr>\n",
       "    <tr>\n",
       "      <th>invicta</th>\n",
       "      <td>414.075256</td>\n",
       "    </tr>\n",
       "    <tr>\n",
       "      <th>casio</th>\n",
       "      <td>384.682953</td>\n",
       "    </tr>\n",
       "    <tr>\n",
       "      <th>fizik</th>\n",
       "      <td>296.242737</td>\n",
       "    </tr>\n",
       "    <tr>\n",
       "      <th>gameday boots</th>\n",
       "      <td>235.530197</td>\n",
       "    </tr>\n",
       "    <tr>\n",
       "      <th>scully</th>\n",
       "      <td>230.631042</td>\n",
       "    </tr>\n",
       "    <tr>\n",
       "      <th>national safety apparel inc</th>\n",
       "      <td>209.457199</td>\n",
       "    </tr>\n",
       "    <tr>\n",
       "      <th>maui jim</th>\n",
       "      <td>184.454620</td>\n",
       "    </tr>\n",
       "    <tr>\n",
       "      <th>justin boots</th>\n",
       "      <td>172.847672</td>\n",
       "    </tr>\n",
       "    <tr>\n",
       "      <th>georgia boot</th>\n",
       "      <td>163.283829</td>\n",
       "    </tr>\n",
       "    <tr>\n",
       "      <th>ray-ban</th>\n",
       "      <td>160.380173</td>\n",
       "    </tr>\n",
       "    <tr>\n",
       "      <th>superior glove works</th>\n",
       "      <td>138.317200</td>\n",
       "    </tr>\n",
       "    <tr>\n",
       "      <th>rocky</th>\n",
       "      <td>133.877228</td>\n",
       "    </tr>\n",
       "    <tr>\n",
       "      <th>kinco</th>\n",
       "      <td>130.445633</td>\n",
       "    </tr>\n",
       "    <tr>\n",
       "      <th>cole haan</th>\n",
       "      <td>126.020729</td>\n",
       "    </tr>\n",
       "    <tr>\n",
       "      <th>bgood</th>\n",
       "      <td>123.624069</td>\n",
       "    </tr>\n",
       "    <tr>\n",
       "      <th>jordan</th>\n",
       "      <td>117.739273</td>\n",
       "    </tr>\n",
       "    <tr>\n",
       "      <th>carrera</th>\n",
       "      <td>112.396278</td>\n",
       "    </tr>\n",
       "    <tr>\n",
       "      <th>caterpillar</th>\n",
       "      <td>109.932961</td>\n",
       "    </tr>\n",
       "    <tr>\n",
       "      <th>adidas</th>\n",
       "      <td>109.491005</td>\n",
       "    </tr>\n",
       "    <tr>\n",
       "      <th>kenneth cole ny</th>\n",
       "      <td>106.038353</td>\n",
       "    </tr>\n",
       "    <tr>\n",
       "      <th>dr. martens</th>\n",
       "      <td>104.921783</td>\n",
       "    </tr>\n",
       "    <tr>\n",
       "      <th>nike</th>\n",
       "      <td>97.865257</td>\n",
       "    </tr>\n",
       "    <tr>\n",
       "      <th>asics</th>\n",
       "      <td>79.071625</td>\n",
       "    </tr>\n",
       "    <tr>\n",
       "      <th>fossa apparel</th>\n",
       "      <td>77.596207</td>\n",
       "    </tr>\n",
       "    <tr>\n",
       "      <th>under armour</th>\n",
       "      <td>77.464287</td>\n",
       "    </tr>\n",
       "    <tr>\n",
       "      <th>berne apparel</th>\n",
       "      <td>75.783890</td>\n",
       "    </tr>\n",
       "    <tr>\n",
       "      <th>new balance</th>\n",
       "      <td>75.556404</td>\n",
       "    </tr>\n",
       "    <tr>\n",
       "      <th>puma</th>\n",
       "      <td>72.025650</td>\n",
       "    </tr>\n",
       "    <tr>\n",
       "      <th>propet</th>\n",
       "      <td>71.193092</td>\n",
       "    </tr>\n",
       "    <tr>\n",
       "      <th>polo ralph lauren</th>\n",
       "      <td>69.247826</td>\n",
       "    </tr>\n",
       "    <tr>\n",
       "      <th>skechers</th>\n",
       "      <td>67.711365</td>\n",
       "    </tr>\n",
       "    <tr>\n",
       "      <th>alpine swiss</th>\n",
       "      <td>62.794941</td>\n",
       "    </tr>\n",
       "    <tr>\n",
       "      <th>stacy adams</th>\n",
       "      <td>61.915001</td>\n",
       "    </tr>\n",
       "    <tr>\n",
       "      <th>reebok</th>\n",
       "      <td>60.694366</td>\n",
       "    </tr>\n",
       "    <tr>\n",
       "      <th>toms</th>\n",
       "      <td>51.648304</td>\n",
       "    </tr>\n",
       "    <tr>\n",
       "      <th>converse</th>\n",
       "      <td>50.901928</td>\n",
       "    </tr>\n",
       "    <tr>\n",
       "      <th>academie</th>\n",
       "      <td>50.703236</td>\n",
       "    </tr>\n",
       "    <tr>\n",
       "      <th>fuse lenses</th>\n",
       "      <td>50.061550</td>\n",
       "    </tr>\n",
       "    <tr>\n",
       "      <th>vans</th>\n",
       "      <td>50.042656</td>\n",
       "    </tr>\n",
       "    <tr>\n",
       "      <th>dvs</th>\n",
       "      <td>46.865002</td>\n",
       "    </tr>\n",
       "    <tr>\n",
       "      <th>fila</th>\n",
       "      <td>46.403584</td>\n",
       "    </tr>\n",
       "    <tr>\n",
       "      <th>unbranded</th>\n",
       "      <td>46.228806</td>\n",
       "    </tr>\n",
       "    <tr>\n",
       "      <th>azzuro</th>\n",
       "      <td>45.579639</td>\n",
       "    </tr>\n",
       "    <tr>\n",
       "      <th>portwest</th>\n",
       "      <td>42.606667</td>\n",
       "    </tr>\n",
       "    <tr>\n",
       "      <th>carhartt</th>\n",
       "      <td>40.765110</td>\n",
       "    </tr>\n",
       "    <tr>\n",
       "      <th>onguard</th>\n",
       "      <td>38.774376</td>\n",
       "    </tr>\n",
       "    <tr>\n",
       "      <th>dickies</th>\n",
       "      <td>38.732361</td>\n",
       "    </tr>\n",
       "    <tr>\n",
       "      <th>crocs</th>\n",
       "      <td>36.584751</td>\n",
       "    </tr>\n",
       "    <tr>\n",
       "      <th>dockers</th>\n",
       "      <td>33.086441</td>\n",
       "    </tr>\n",
       "    <tr>\n",
       "      <th>muk luks</th>\n",
       "      <td>30.709480</td>\n",
       "    </tr>\n",
       "    <tr>\n",
       "      <th>unique bargains</th>\n",
       "      <td>14.538110</td>\n",
       "    </tr>\n",
       "  </tbody>\n",
       "</table>\n",
       "</div>"
      ],
      "text/plain": [
       "                                  price\n",
       "brand                                  \n",
       "ralph lauren                 509.997437\n",
       "invicta                      414.075256\n",
       "casio                        384.682953\n",
       "fizik                        296.242737\n",
       "gameday boots                235.530197\n",
       "scully                       230.631042\n",
       "national safety apparel inc  209.457199\n",
       "maui jim                     184.454620\n",
       "justin boots                 172.847672\n",
       "georgia boot                 163.283829\n",
       "ray-ban                      160.380173\n",
       "superior glove works         138.317200\n",
       "rocky                        133.877228\n",
       "kinco                        130.445633\n",
       "cole haan                    126.020729\n",
       "bgood                        123.624069\n",
       "jordan                       117.739273\n",
       "carrera                      112.396278\n",
       "caterpillar                  109.932961\n",
       "adidas                       109.491005\n",
       "kenneth cole ny              106.038353\n",
       "dr. martens                  104.921783\n",
       "nike                          97.865257\n",
       "asics                         79.071625\n",
       "fossa apparel                 77.596207\n",
       "under armour                  77.464287\n",
       "berne apparel                 75.783890\n",
       "new balance                   75.556404\n",
       "puma                          72.025650\n",
       "propet                        71.193092\n",
       "polo ralph lauren             69.247826\n",
       "skechers                      67.711365\n",
       "alpine swiss                  62.794941\n",
       "stacy adams                   61.915001\n",
       "reebok                        60.694366\n",
       "toms                          51.648304\n",
       "converse                      50.901928\n",
       "academie                      50.703236\n",
       "fuse lenses                   50.061550\n",
       "vans                          50.042656\n",
       "dvs                           46.865002\n",
       "fila                          46.403584\n",
       "unbranded                     46.228806\n",
       "azzuro                        45.579639\n",
       "portwest                      42.606667\n",
       "carhartt                      40.765110\n",
       "onguard                       38.774376\n",
       "dickies                       38.732361\n",
       "crocs                         36.584751\n",
       "dockers                       33.086441\n",
       "muk luks                      30.709480\n",
       "unique bargains               14.538110"
      ]
     },
     "execution_count": 62,
     "metadata": {},
     "output_type": "execute_result"
    }
   ],
   "source": [
    "df_brands = df_cleaned[df_cleaned.brand.isin(brands_above_50.index)].groupby('brand').mean()\n",
    "df_brands.sort_values('price', ascending=False, inplace=True)\n",
    "df_brands"
   ]
  },
  {
   "cell_type": "code",
   "execution_count": 65,
   "metadata": {},
   "outputs": [
    {
     "data": {
      "image/png": "[encoded data removed]",
      "text/plain": [
       "<Figure size 576x1008 with 1 Axes>"
      ]
     },
     "metadata": {},
     "output_type": "display_data"
    }
   ],
   "source": [
    "fig = plt.figure(figsize=(8, 14))\n",
    "sns.barplot(data=df_brands, x='price', y=df_brands.index, palette='crest')\n",
    "plt.title('Average Price by Brand')\n",
    "plt.xlabel('Price')\n",
    "plt.ylabel('Brand');"
   ]
  }
 ],
 "metadata": {
  "kernelspec": {
   "display_name": "learn-env",
   "language": "python",
   "name": "learn-env"
  },
  "language_info": {
   "codemirror_mode": {
    "name": "ipython",
    "version": 3
   },
   "file_extension": ".py",
   "mimetype": "text/x-python",
   "name": "python",
   "nbconvert_exporter": "python",
   "pygments_lexer": "ipython3",
   "version": "3.8.5"
  },
  "toc-autonumbering": true
 },
 "nbformat": 4,
 "nbformat_minor": 4
}
